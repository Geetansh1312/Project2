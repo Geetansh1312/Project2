{
 "cells": [
  {
   "cell_type": "code",
   "execution_count": 1,
   "id": "054b545c",
   "metadata": {},
   "outputs": [],
   "source": [
    "import numpy as np\n",
    "import pandas as pd\n",
    "import matplotlib.pyplot as plt\n",
    "import seaborn as sns\n",
    "%matplotlib inline"
   ]
  },
  {
   "cell_type": "code",
   "execution_count": 2,
   "id": "37cfe5b1",
   "metadata": {},
   "outputs": [
    {
     "name": "stderr",
     "output_type": "stream",
     "text": [
      "/var/folders/7n/47wy2ys56gz0qf38l7j6h6qr0000gn/T/ipykernel_53335/3123733351.py:21: FutureWarning: The frame.append method is deprecated and will be removed from pandas in a future version. Use pandas.concat instead.\n",
      "  df = df.append(outliers, ignore_index=True)\n"
     ]
    }
   ],
   "source": [
    "np.random.seed(42)\n",
    "data = {\n",
    "    'Age': np.random.randint(18, 70, 350),\n",
    "    'Height': np.random.randint(140, 200, 350),\n",
    "    'Weight': np.random.randint(50, 100, 350),\n",
    "}\n",
    "\n",
    "# Convert to DataFrame\n",
    "df = pd.DataFrame(data)\n",
    "\n",
    "# Introduce some missing values\n",
    "df.loc[df.sample(frac=0.1).index, 'Age'] = np.nan\n",
    "df.loc[df.sample(frac=0.05).index, 'Height'] = np.nan\n",
    "\n",
    "# Introduce outliers\n",
    "outliers = pd.DataFrame({\n",
    "    'Age': [16, 75],\n",
    "    'Height': [220, 130],\n",
    "    'Weight': [40, 120],\n",
    "})\n",
    "df = df.append(outliers, ignore_index=True)"
   ]
  },
  {
   "cell_type": "code",
   "execution_count": 3,
   "id": "a7d6700c",
   "metadata": {},
   "outputs": [],
   "source": [
    "np.random.seed(42)\n",
    "data = {\n",
    "    'Age': np.random.randint(18, 70, 350),\n",
    "    'Height': np.random.randint(140, 200, 350),\n",
    "    'Weight': np.random.randint(50, 100, 350),\n",
    "}\n",
    "\n",
    "# Convert to DataFrame\n",
    "df = pd.DataFrame(data)\n",
    "\n",
    "# Introduce some missing values\n",
    "df.loc[df.sample(frac=0.1).index, 'Age'] = np.nan\n",
    "df.loc[df.sample(frac=0.05).index, 'Height'] = np.nan\n",
    "\n",
    "# Introduce outliers\n",
    "outliers = pd.DataFrame({\n",
    "    'Age': [16, 75],\n",
    "    'Height': [220, 130],\n",
    "    'Weight': [40, 120],\n",
    "})\n",
    "\n",
    "# Concatenate the original DataFrame with the outliers DataFrame\n",
    "df = pd.concat([df, outliers], ignore_index=True)"
   ]
  },
  {
   "cell_type": "code",
   "execution_count": 4,
   "id": "992e019d",
   "metadata": {},
   "outputs": [
    {
     "data": {
      "text/html": [
       "<div>\n",
       "<style scoped>\n",
       "    .dataframe tbody tr th:only-of-type {\n",
       "        vertical-align: middle;\n",
       "    }\n",
       "\n",
       "    .dataframe tbody tr th {\n",
       "        vertical-align: top;\n",
       "    }\n",
       "\n",
       "    .dataframe thead th {\n",
       "        text-align: right;\n",
       "    }\n",
       "</style>\n",
       "<table border=\"1\" class=\"dataframe\">\n",
       "  <thead>\n",
       "    <tr style=\"text-align: right;\">\n",
       "      <th></th>\n",
       "      <th>Age</th>\n",
       "      <th>Height</th>\n",
       "      <th>Weight</th>\n",
       "    </tr>\n",
       "  </thead>\n",
       "  <tbody>\n",
       "    <tr>\n",
       "      <th>0</th>\n",
       "      <td>56.0</td>\n",
       "      <td>194.0</td>\n",
       "      <td>54</td>\n",
       "    </tr>\n",
       "    <tr>\n",
       "      <th>1</th>\n",
       "      <td>69.0</td>\n",
       "      <td>161.0</td>\n",
       "      <td>84</td>\n",
       "    </tr>\n",
       "    <tr>\n",
       "      <th>2</th>\n",
       "      <td>46.0</td>\n",
       "      <td>185.0</td>\n",
       "      <td>61</td>\n",
       "    </tr>\n",
       "    <tr>\n",
       "      <th>3</th>\n",
       "      <td>32.0</td>\n",
       "      <td>169.0</td>\n",
       "      <td>74</td>\n",
       "    </tr>\n",
       "    <tr>\n",
       "      <th>4</th>\n",
       "      <td>60.0</td>\n",
       "      <td>177.0</td>\n",
       "      <td>70</td>\n",
       "    </tr>\n",
       "    <tr>\n",
       "      <th>...</th>\n",
       "      <td>...</td>\n",
       "      <td>...</td>\n",
       "      <td>...</td>\n",
       "    </tr>\n",
       "    <tr>\n",
       "      <th>347</th>\n",
       "      <td>29.0</td>\n",
       "      <td>186.0</td>\n",
       "      <td>75</td>\n",
       "    </tr>\n",
       "    <tr>\n",
       "      <th>348</th>\n",
       "      <td>68.0</td>\n",
       "      <td>155.0</td>\n",
       "      <td>93</td>\n",
       "    </tr>\n",
       "    <tr>\n",
       "      <th>349</th>\n",
       "      <td>39.0</td>\n",
       "      <td>192.0</td>\n",
       "      <td>74</td>\n",
       "    </tr>\n",
       "    <tr>\n",
       "      <th>350</th>\n",
       "      <td>16.0</td>\n",
       "      <td>220.0</td>\n",
       "      <td>40</td>\n",
       "    </tr>\n",
       "    <tr>\n",
       "      <th>351</th>\n",
       "      <td>75.0</td>\n",
       "      <td>130.0</td>\n",
       "      <td>120</td>\n",
       "    </tr>\n",
       "  </tbody>\n",
       "</table>\n",
       "<p>352 rows × 3 columns</p>\n",
       "</div>"
      ],
      "text/plain": [
       "      Age  Height  Weight\n",
       "0    56.0   194.0      54\n",
       "1    69.0   161.0      84\n",
       "2    46.0   185.0      61\n",
       "3    32.0   169.0      74\n",
       "4    60.0   177.0      70\n",
       "..    ...     ...     ...\n",
       "347  29.0   186.0      75\n",
       "348  68.0   155.0      93\n",
       "349  39.0   192.0      74\n",
       "350  16.0   220.0      40\n",
       "351  75.0   130.0     120\n",
       "\n",
       "[352 rows x 3 columns]"
      ]
     },
     "execution_count": 4,
     "metadata": {},
     "output_type": "execute_result"
    }
   ],
   "source": [
    "df"
   ]
  },
  {
   "cell_type": "code",
   "execution_count": 10,
   "id": "9131c58f",
   "metadata": {},
   "outputs": [],
   "source": [
    "df.isnull().any()\n",
    "df1=df.copy()"
   ]
  },
  {
   "cell_type": "code",
   "execution_count": 6,
   "id": "c2f79a45",
   "metadata": {},
   "outputs": [],
   "source": [
    "from sklearn.impute import SimpleImputer"
   ]
  },
  {
   "cell_type": "code",
   "execution_count": 8,
   "id": "8e5e8148",
   "metadata": {},
   "outputs": [],
   "source": [
    "median_imputer=SimpleImputer(missing_values=np.nan,strategy='median')"
   ]
  },
  {
   "cell_type": "code",
   "execution_count": 11,
   "id": "9ebaa81e",
   "metadata": {},
   "outputs": [],
   "source": [
    "median_imputer=median_imputer.fit(df1)"
   ]
  },
  {
   "cell_type": "code",
   "execution_count": 12,
   "id": "874a86ba",
   "metadata": {},
   "outputs": [],
   "source": [
    "imputed_df=median_imputer.transform(df1)"
   ]
  },
  {
   "cell_type": "code",
   "execution_count": 14,
   "id": "49e003f7",
   "metadata": {},
   "outputs": [],
   "source": [
    "df1=pd.DataFrame(data=imputed_df,columns=df1.columns)"
   ]
  },
  {
   "cell_type": "code",
   "execution_count": 15,
   "id": "8dbce837",
   "metadata": {},
   "outputs": [
    {
     "data": {
      "text/html": [
       "<div>\n",
       "<style scoped>\n",
       "    .dataframe tbody tr th:only-of-type {\n",
       "        vertical-align: middle;\n",
       "    }\n",
       "\n",
       "    .dataframe tbody tr th {\n",
       "        vertical-align: top;\n",
       "    }\n",
       "\n",
       "    .dataframe thead th {\n",
       "        text-align: right;\n",
       "    }\n",
       "</style>\n",
       "<table border=\"1\" class=\"dataframe\">\n",
       "  <thead>\n",
       "    <tr style=\"text-align: right;\">\n",
       "      <th></th>\n",
       "      <th>Age</th>\n",
       "      <th>Height</th>\n",
       "      <th>Weight</th>\n",
       "    </tr>\n",
       "  </thead>\n",
       "  <tbody>\n",
       "    <tr>\n",
       "      <th>0</th>\n",
       "      <td>56.0</td>\n",
       "      <td>194.0</td>\n",
       "      <td>54.0</td>\n",
       "    </tr>\n",
       "    <tr>\n",
       "      <th>1</th>\n",
       "      <td>69.0</td>\n",
       "      <td>161.0</td>\n",
       "      <td>84.0</td>\n",
       "    </tr>\n",
       "    <tr>\n",
       "      <th>2</th>\n",
       "      <td>46.0</td>\n",
       "      <td>185.0</td>\n",
       "      <td>61.0</td>\n",
       "    </tr>\n",
       "    <tr>\n",
       "      <th>3</th>\n",
       "      <td>32.0</td>\n",
       "      <td>169.0</td>\n",
       "      <td>74.0</td>\n",
       "    </tr>\n",
       "    <tr>\n",
       "      <th>4</th>\n",
       "      <td>60.0</td>\n",
       "      <td>177.0</td>\n",
       "      <td>70.0</td>\n",
       "    </tr>\n",
       "    <tr>\n",
       "      <th>...</th>\n",
       "      <td>...</td>\n",
       "      <td>...</td>\n",
       "      <td>...</td>\n",
       "    </tr>\n",
       "    <tr>\n",
       "      <th>347</th>\n",
       "      <td>29.0</td>\n",
       "      <td>186.0</td>\n",
       "      <td>75.0</td>\n",
       "    </tr>\n",
       "    <tr>\n",
       "      <th>348</th>\n",
       "      <td>68.0</td>\n",
       "      <td>155.0</td>\n",
       "      <td>93.0</td>\n",
       "    </tr>\n",
       "    <tr>\n",
       "      <th>349</th>\n",
       "      <td>39.0</td>\n",
       "      <td>192.0</td>\n",
       "      <td>74.0</td>\n",
       "    </tr>\n",
       "    <tr>\n",
       "      <th>350</th>\n",
       "      <td>16.0</td>\n",
       "      <td>220.0</td>\n",
       "      <td>40.0</td>\n",
       "    </tr>\n",
       "    <tr>\n",
       "      <th>351</th>\n",
       "      <td>75.0</td>\n",
       "      <td>130.0</td>\n",
       "      <td>120.0</td>\n",
       "    </tr>\n",
       "  </tbody>\n",
       "</table>\n",
       "<p>352 rows × 3 columns</p>\n",
       "</div>"
      ],
      "text/plain": [
       "      Age  Height  Weight\n",
       "0    56.0   194.0    54.0\n",
       "1    69.0   161.0    84.0\n",
       "2    46.0   185.0    61.0\n",
       "3    32.0   169.0    74.0\n",
       "4    60.0   177.0    70.0\n",
       "..    ...     ...     ...\n",
       "347  29.0   186.0    75.0\n",
       "348  68.0   155.0    93.0\n",
       "349  39.0   192.0    74.0\n",
       "350  16.0   220.0    40.0\n",
       "351  75.0   130.0   120.0\n",
       "\n",
       "[352 rows x 3 columns]"
      ]
     },
     "execution_count": 15,
     "metadata": {},
     "output_type": "execute_result"
    }
   ],
   "source": [
    "df1"
   ]
  },
  {
   "cell_type": "code",
   "execution_count": 16,
   "id": "8454e023",
   "metadata": {},
   "outputs": [
    {
     "data": {
      "text/plain": [
       "Age       False\n",
       "Height    False\n",
       "Weight    False\n",
       "dtype: bool"
      ]
     },
     "execution_count": 16,
     "metadata": {},
     "output_type": "execute_result"
    }
   ],
   "source": [
    "df1.isnull().any()"
   ]
  },
  {
   "cell_type": "code",
   "execution_count": 17,
   "id": "9ecaffcd",
   "metadata": {},
   "outputs": [
    {
     "data": {
      "image/png": "[encoded data removed]",
      "text/plain": [
       "<Figure size 640x480 with 1 Axes>"
      ]
     },
     "metadata": {},
     "output_type": "display_data"
    },
    {
     "data": {
      "image/png": "[encoded data removed]",
      "text/plain": [
       "<Figure size 640x480 with 1 Axes>"
      ]
     },
     "metadata": {},
     "output_type": "display_data"
    },
    {
     "data": {
      "image/png": "[encoded data removed]",
      "text/plain": [
       "<Figure size 640x480 with 1 Axes>"
      ]
     },
     "metadata": {},
     "output_type": "display_data"
    }
   ],
   "source": [
    "for column in df:\n",
    " plt.figure()\n",
    " df.boxplot([column])"
   ]
  },
  {
   "cell_type": "code",
   "execution_count": 18,
   "id": "a08750ad",
   "metadata": {},
   "outputs": [
    {
     "data": {
      "text/html": [
       "<div>\n",
       "<style scoped>\n",
       "    .dataframe tbody tr th:only-of-type {\n",
       "        vertical-align: middle;\n",
       "    }\n",
       "\n",
       "    .dataframe tbody tr th {\n",
       "        vertical-align: top;\n",
       "    }\n",
       "\n",
       "    .dataframe thead th {\n",
       "        text-align: right;\n",
       "    }\n",
       "</style>\n",
       "<table border=\"1\" class=\"dataframe\">\n",
       "  <thead>\n",
       "    <tr style=\"text-align: right;\">\n",
       "      <th></th>\n",
       "      <th>Age</th>\n",
       "      <th>Height</th>\n",
       "      <th>Weight</th>\n",
       "    </tr>\n",
       "  </thead>\n",
       "  <tbody>\n",
       "    <tr>\n",
       "      <th>Age</th>\n",
       "      <td>1.000000</td>\n",
       "      <td>0.045563</td>\n",
       "      <td>-0.045598</td>\n",
       "    </tr>\n",
       "    <tr>\n",
       "      <th>Height</th>\n",
       "      <td>0.045563</td>\n",
       "      <td>1.000000</td>\n",
       "      <td>-0.076201</td>\n",
       "    </tr>\n",
       "    <tr>\n",
       "      <th>Weight</th>\n",
       "      <td>-0.045598</td>\n",
       "      <td>-0.076201</td>\n",
       "      <td>1.000000</td>\n",
       "    </tr>\n",
       "  </tbody>\n",
       "</table>\n",
       "</div>"
      ],
      "text/plain": [
       "             Age    Height    Weight\n",
       "Age     1.000000  0.045563 -0.045598\n",
       "Height  0.045563  1.000000 -0.076201\n",
       "Weight -0.045598 -0.076201  1.000000"
      ]
     },
     "execution_count": 18,
     "metadata": {},
     "output_type": "execute_result"
    }
   ],
   "source": [
    "df.corr()"
   ]
  },
  {
   "cell_type": "code",
   "execution_count": 22,
   "id": "21350912",
   "metadata": {},
   "outputs": [
    {
     "name": "stdout",
     "output_type": "stream",
     "text": [
      "89.5 -2.5\n",
      "225.5 117.5\n",
      "124.5 24.5\n"
     ]
    }
   ],
   "source": [
    "for column in df:\n",
    "    q1=df1[column].quantile(0.25)\n",
    "    q3=df1[column].quantile(0.75)\n",
    "    iqr=q3-q1\n",
    "    ub=q3+1.5*iqr\n",
    "    lb=q1-1.5*iqr\n",
    "    print(ub,lb)\n",
    "    "
   ]
  },
  {
   "cell_type": "code",
   "execution_count": 26,
   "id": "4a19e5f4",
   "metadata": {},
   "outputs": [
    {
     "data": {
      "text/plain": [
       "<Axes: title={'center': 'sampleplot1'}>"
      ]
     },
     "execution_count": 26,
     "metadata": {},
     "output_type": "execute_result"
    },
    {
     "data": {
      "image/png": "[encoded data removed]",
      "text/plain": [
       "<Figure size 1500x2000 with 1 Axes>"
      ]
     },
     "metadata": {},
     "output_type": "display_data"
    }
   ],
   "source": [
    "df.plot(x='Age',y='Height',kind='box',legend=True,title='sampleplot1',figsize=(15,20))"
   ]
  },
  {
   "cell_type": "code",
   "execution_count": null,
   "id": "e8c0262c",
   "metadata": {},
   "outputs": [],
   "source": []
  }
 ],
 "metadata": {
  "kernelspec": {
   "display_name": "Python 3 (ipykernel)",
   "language": "python",
   "name": "python3"
  },
  "language_info": {
   "codemirror_mode": {
    "name": "ipython",
    "version": 3
   },
   "file_extension": ".py",
   "mimetype": "text/x-python",
   "name": "python",
   "nbconvert_exporter": "python",
   "pygments_lexer": "ipython3",
   "version": "3.10.9"
  }
 },
 "nbformat": 4,
 "nbformat_minor": 5
}
