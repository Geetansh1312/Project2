{
 "cells": [
  {
   "cell_type": "code",
   "execution_count": 1,
   "id": "5e609b23-3f65-4a14-ac8b-262932e4df83",
   "metadata": {},
   "outputs": [
    {
     "name": "stdout",
     "output_type": "stream",
     "text": [
      "Requirement already satisfied: jugaad-data in /Users/geetansh13/anaconda3/lib/python3.10/site-packages (0.24)\n",
      "Requirement already satisfied: requests in /Users/geetansh13/anaconda3/lib/python3.10/site-packages (from jugaad-data) (2.28.1)\n",
      "Requirement already satisfied: appdirs==1.4.4 in /Users/geetansh13/anaconda3/lib/python3.10/site-packages (from jugaad-data) (1.4.4)\n",
      "Requirement already satisfied: beautifulsoup4==4.9.3 in /Users/geetansh13/anaconda3/lib/python3.10/site-packages (from jugaad-data) (4.9.3)\n",
      "Requirement already satisfied: click==7.1.2 in /Users/geetansh13/anaconda3/lib/python3.10/site-packages (from jugaad-data) (7.1.2)\n",
      "Requirement already satisfied: soupsieve>1.2 in /Users/geetansh13/anaconda3/lib/python3.10/site-packages (from beautifulsoup4==4.9.3->jugaad-data) (2.3.2.post1)\n",
      "Requirement already satisfied: idna<4,>=2.5 in /Users/geetansh13/anaconda3/lib/python3.10/site-packages (from requests->jugaad-data) (3.4)\n",
      "Requirement already satisfied: charset-normalizer<3,>=2 in /Users/geetansh13/anaconda3/lib/python3.10/site-packages (from requests->jugaad-data) (2.0.4)\n",
      "Requirement already satisfied: certifi>=2017.4.17 in /Users/geetansh13/anaconda3/lib/python3.10/site-packages (from requests->jugaad-data) (2022.12.7)\n",
      "Requirement already satisfied: urllib3<1.27,>=1.21.1 in /Users/geetansh13/anaconda3/lib/python3.10/site-packages (from requests->jugaad-data) (1.26.14)\n",
      "Note: you may need to restart the kernel to use updated packages.\n"
     ]
    }
   ],
   "source": [
    "pip install jugaad-data"
   ]
  },
  {
   "cell_type": "code",
   "execution_count": 2,
   "id": "0f200e68-1432-4cf0-a3e9-63cda22f7d2c",
   "metadata": {},
   "outputs": [
    {
     "name": "stdout",
     "output_type": "stream",
     "text": [
      "Untitled.ipynb       fetch_stock_data.py\n",
      "\u001b[34m__pycache__\u001b[m\u001b[m/         numpytest.py\n"
     ]
    }
   ],
   "source": [
    "ls"
   ]
  },
  {
   "cell_type": "code",
   "execution_count": 3,
   "id": "6d76db48-1b63-4446-8634-88d54f53dbd7",
   "metadata": {},
   "outputs": [
    {
     "name": "stdout",
     "output_type": "stream",
     "text": [
      "/Users/geetansh13\n"
     ]
    }
   ],
   "source": [
    "cd"
   ]
  },
  {
   "cell_type": "code",
   "execution_count": 4,
   "id": "925b9446-4d9e-4461-bfdb-7e95264e1b6b",
   "metadata": {},
   "outputs": [
    {
     "name": "stdout",
     "output_type": "stream",
     "text": [
      "/Users/geetansh13/Desktop\n"
     ]
    }
   ],
   "source": [
    "cd ~/Desktop"
   ]
  },
  {
   "cell_type": "code",
   "execution_count": 5,
   "id": "bc73f6ef-1b45-4e88-9d1c-146289c782f4",
   "metadata": {},
   "outputs": [
    {
     "name": "stdout",
     "output_type": "stream",
     "text": [
      "/Users/geetansh13/Desktop/PROJECT\n"
     ]
    }
   ],
   "source": [
    "cd PROJECT"
   ]
  },
  {
   "cell_type": "code",
   "execution_count": 20,
   "id": "222819ed-1034-473e-9b9d-e1ba721285a5",
   "metadata": {},
   "outputs": [],
   "source": [
    "import fetch_stock_data"
   ]
  },
  {
   "cell_type": "code",
   "execution_count": 23,
   "id": "34640a1d-168b-41c4-8170-343c0f860714",
   "metadata": {},
   "outputs": [
    {
     "ename": "AttributeError",
     "evalue": "module 'fetch_stock_data' has no attribute 'reload'",
     "output_type": "error",
     "traceback": [
      "\u001b[0;31m---------------------------------------------------------------------------\u001b[0m",
      "\u001b[0;31mAttributeError\u001b[0m                            Traceback (most recent call last)",
      "Cell \u001b[0;32mIn[23], line 1\u001b[0m\n\u001b[0;32m----> 1\u001b[0m \u001b[43mfetch_stock_data\u001b[49m\u001b[38;5;241;43m.\u001b[39;49m\u001b[43mreload\u001b[49m(sdata())\n",
      "\u001b[0;31mAttributeError\u001b[0m: module 'fetch_stock_data' has no attribute 'reload'"
     ]
    }
   ],
   "source": [
    "fetch_stock_data.reload(sdata())"
   ]
  },
  {
   "cell_type": "code",
   "execution_count": 21,
   "id": "2d32f6f9-3e6f-44b4-8b50-8edfbde64233",
   "metadata": {},
   "outputs": [
    {
     "ename": "AttributeError",
     "evalue": "module 'fetch_stock_data' has no attribute 'reload'",
     "output_type": "error",
     "traceback": [
      "\u001b[0;31m---------------------------------------------------------------------------\u001b[0m",
      "\u001b[0;31mAttributeError\u001b[0m                            Traceback (most recent call last)",
      "Cell \u001b[0;32mIn[21], line 1\u001b[0m\n\u001b[0;32m----> 1\u001b[0m \u001b[43mfetch_stock_data\u001b[49m\u001b[38;5;241;43m.\u001b[39;49m\u001b[43mreload\u001b[49m(sdata)\n",
      "\u001b[0;31mAttributeError\u001b[0m: module 'fetch_stock_data' has no attribute 'reload'"
     ]
    }
   ],
   "source": []
  },
  {
   "cell_type": "code",
   "execution_count": null,
   "id": "db937d7a-db7e-4ee5-948b-9381f225ae64",
   "metadata": {},
   "outputs": [],
   "source": []
  }
 ],
 "metadata": {
  "kernelspec": {
   "display_name": "Python 3 (ipykernel)",
   "language": "python",
   "name": "python3"
  },
  "language_info": {
   "codemirror_mode": {
    "name": "ipython",
    "version": 3
   },
   "file_extension": ".py",
   "mimetype": "text/x-python",
   "name": "python",
   "nbconvert_exporter": "python",
   "pygments_lexer": "ipython3",
   "version": "3.10.9"
  }
 },
 "nbformat": 4,
 "nbformat_minor": 5
}
